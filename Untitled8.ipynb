{
 "cells": [
  {
   "cell_type": "markdown",
   "id": "a1a4761c",
   "metadata": {},
   "source": [
    "# Welcome to python"
   ]
  },
  {
   "cell_type": "markdown",
   "id": "38eefd7b",
   "metadata": {},
   "source": [
    "Learning Python basics"
   ]
  },
  {
   "cell_type": "markdown",
   "id": "54fd0933",
   "metadata": {},
   "source": [
    "working with operators"
   ]
  },
  {
   "cell_type": "code",
   "execution_count": 1,
   "id": "17fe5026",
   "metadata": {},
   "outputs": [
    {
     "data": {
      "text/plain": [
       "4"
      ]
     },
     "execution_count": 1,
     "metadata": {},
     "output_type": "execute_result"
    }
   ],
   "source": [
    "2+2"
   ]
  },
  {
   "cell_type": "code",
   "execution_count": 2,
   "id": "886d846e",
   "metadata": {},
   "outputs": [
    {
     "data": {
      "text/plain": [
       "2"
      ]
     },
     "execution_count": 2,
     "metadata": {},
     "output_type": "execute_result"
    }
   ],
   "source": [
    "2*1"
   ]
  },
  {
   "cell_type": "code",
   "execution_count": 3,
   "id": "efde7982",
   "metadata": {},
   "outputs": [
    {
     "data": {
      "text/plain": [
       "1"
      ]
     },
     "execution_count": 3,
     "metadata": {},
     "output_type": "execute_result"
    }
   ],
   "source": [
    "2-1"
   ]
  },
  {
   "cell_type": "code",
   "execution_count": 4,
   "id": "c7b7f4ca",
   "metadata": {},
   "outputs": [
    {
     "data": {
      "text/plain": [
       "6"
      ]
     },
     "execution_count": 4,
     "metadata": {},
     "output_type": "execute_result"
    }
   ],
   "source": [
    "2*3"
   ]
  },
  {
   "cell_type": "code",
   "execution_count": 5,
   "id": "4510251e",
   "metadata": {},
   "outputs": [
    {
     "data": {
      "text/plain": [
       "40"
      ]
     },
     "execution_count": 5,
     "metadata": {},
     "output_type": "execute_result"
    }
   ],
   "source": [
    "5*8"
   ]
  },
  {
   "cell_type": "code",
   "execution_count": 6,
   "id": "d1354eba",
   "metadata": {},
   "outputs": [
    {
     "data": {
      "text/plain": [
       "5.0"
      ]
     },
     "execution_count": 6,
     "metadata": {},
     "output_type": "execute_result"
    }
   ],
   "source": [
    "10/2"
   ]
  },
  {
   "cell_type": "code",
   "execution_count": 7,
   "id": "5dedf17b",
   "metadata": {},
   "outputs": [
    {
     "data": {
      "text/plain": [
       "10.0"
      ]
     },
     "execution_count": 7,
     "metadata": {},
     "output_type": "execute_result"
    }
   ],
   "source": [
    "60/6"
   ]
  },
  {
   "cell_type": "markdown",
   "id": "73982831",
   "metadata": {},
   "source": [
    "Floor Division"
   ]
  },
  {
   "cell_type": "code",
   "execution_count": 8,
   "id": "db2bfc52",
   "metadata": {},
   "outputs": [
    {
     "data": {
      "text/plain": [
       "5"
      ]
     },
     "execution_count": 8,
     "metadata": {},
     "output_type": "execute_result"
    }
   ],
   "source": [
    "10//2"
   ]
  },
  {
   "cell_type": "code",
   "execution_count": 9,
   "id": "989a840b",
   "metadata": {},
   "outputs": [
    {
     "data": {
      "text/plain": [
       "10"
      ]
     },
     "execution_count": 9,
     "metadata": {},
     "output_type": "execute_result"
    }
   ],
   "source": [
    "60//6"
   ]
  },
  {
   "cell_type": "markdown",
   "id": "3104950f",
   "metadata": {},
   "source": [
    "Power Function"
   ]
  },
  {
   "cell_type": "code",
   "execution_count": 10,
   "id": "4b9befd1",
   "metadata": {},
   "outputs": [
    {
     "data": {
      "text/plain": [
       "4"
      ]
     },
     "execution_count": 10,
     "metadata": {},
     "output_type": "execute_result"
    }
   ],
   "source": [
    "2**2"
   ]
  },
  {
   "cell_type": "code",
   "execution_count": 12,
   "id": "9f3e1970",
   "metadata": {},
   "outputs": [
    {
     "data": {
      "text/plain": [
       "27"
      ]
     },
     "execution_count": 12,
     "metadata": {},
     "output_type": "execute_result"
    }
   ],
   "source": [
    "3**3"
   ]
  },
  {
   "cell_type": "markdown",
   "id": "6a486c22",
   "metadata": {},
   "source": [
    "(8)2 square"
   ]
  },
  {
   "cell_type": "code",
   "execution_count": 13,
   "id": "44550602",
   "metadata": {},
   "outputs": [
    {
     "data": {
      "text/plain": [
       "64"
      ]
     },
     "execution_count": 13,
     "metadata": {},
     "output_type": "execute_result"
    }
   ],
   "source": [
    "8**2"
   ]
  },
  {
   "cell_type": "markdown",
   "id": "9f4be557",
   "metadata": {},
   "source": [
    "qube formula"
   ]
  },
  {
   "cell_type": "code",
   "execution_count": 14,
   "id": "8558d64c",
   "metadata": {},
   "outputs": [
    {
     "data": {
      "text/plain": [
       "512"
      ]
     },
     "execution_count": 14,
     "metadata": {},
     "output_type": "execute_result"
    }
   ],
   "source": [
    "8**3"
   ]
  },
  {
   "cell_type": "code",
   "execution_count": 15,
   "id": "c7b36631",
   "metadata": {},
   "outputs": [
    {
     "data": {
      "text/plain": [
       "81"
      ]
     },
     "execution_count": 15,
     "metadata": {},
     "output_type": "execute_result"
    }
   ],
   "source": [
    "3**4"
   ]
  },
  {
   "cell_type": "markdown",
   "id": "9bd3b83d",
   "metadata": {},
   "source": [
    "Square Root"
   ]
  },
  {
   "cell_type": "code",
   "execution_count": 17,
   "id": "6e62af1e",
   "metadata": {},
   "outputs": [
    {
     "data": {
      "text/plain": [
       "5.0"
      ]
     },
     "execution_count": 17,
     "metadata": {},
     "output_type": "execute_result"
    }
   ],
   "source": [
    "25**(1/2)"
   ]
  },
  {
   "cell_type": "code",
   "execution_count": 18,
   "id": "11ef0433",
   "metadata": {},
   "outputs": [
    {
     "data": {
      "text/plain": [
       "8.0"
      ]
     },
     "execution_count": 18,
     "metadata": {},
     "output_type": "execute_result"
    }
   ],
   "source": [
    "64**(1/2)"
   ]
  },
  {
   "cell_type": "code",
   "execution_count": 19,
   "id": "385d8cfd",
   "metadata": {},
   "outputs": [
    {
     "data": {
      "text/plain": [
       "3.9999999999999996"
      ]
     },
     "execution_count": 19,
     "metadata": {},
     "output_type": "execute_result"
    }
   ],
   "source": [
    "64**(1/3)"
   ]
  },
  {
   "cell_type": "code",
   "execution_count": 20,
   "id": "49cc4c1c",
   "metadata": {},
   "outputs": [
    {
     "data": {
      "text/plain": [
       "4.0"
      ]
     },
     "execution_count": 20,
     "metadata": {},
     "output_type": "execute_result"
    }
   ],
   "source": [
    "i=64**(1/3)\n",
    "round(i,0)"
   ]
  },
  {
   "cell_type": "code",
   "execution_count": 21,
   "id": "4fff3aff",
   "metadata": {},
   "outputs": [
    {
     "name": "stdout",
     "output_type": "stream",
     "text": [
      "Debangshu\n"
     ]
    }
   ],
   "source": [
    "print('Debangshu')"
   ]
  },
  {
   "cell_type": "code",
   "execution_count": 22,
   "id": "becab067",
   "metadata": {},
   "outputs": [
    {
     "name": "stdout",
     "output_type": "stream",
     "text": [
      "Learing python\n"
     ]
    }
   ],
   "source": [
    "print('Learing python')"
   ]
  },
  {
   "cell_type": "markdown",
   "id": "6051f6af",
   "metadata": {},
   "source": [
    "Veriables"
   ]
  },
  {
   "cell_type": "code",
   "execution_count": 23,
   "id": "6be4d26b",
   "metadata": {},
   "outputs": [],
   "source": [
    "a=10"
   ]
  },
  {
   "cell_type": "code",
   "execution_count": 24,
   "id": "5acd8bc7",
   "metadata": {},
   "outputs": [
    {
     "data": {
      "text/plain": [
       "10"
      ]
     },
     "execution_count": 24,
     "metadata": {},
     "output_type": "execute_result"
    }
   ],
   "source": [
    "a"
   ]
  },
  {
   "cell_type": "code",
   "execution_count": 25,
   "id": "c09f9aab",
   "metadata": {},
   "outputs": [],
   "source": [
    "b=12"
   ]
  },
  {
   "cell_type": "code",
   "execution_count": 26,
   "id": "55ca1048",
   "metadata": {},
   "outputs": [
    {
     "data": {
      "text/plain": [
       "12"
      ]
     },
     "execution_count": 26,
     "metadata": {},
     "output_type": "execute_result"
    }
   ],
   "source": [
    "b"
   ]
  },
  {
   "cell_type": "code",
   "execution_count": 27,
   "id": "1abd46ae",
   "metadata": {},
   "outputs": [
    {
     "data": {
      "text/plain": [
       "22"
      ]
     },
     "execution_count": 27,
     "metadata": {},
     "output_type": "execute_result"
    }
   ],
   "source": [
    "a+b"
   ]
  },
  {
   "cell_type": "code",
   "execution_count": 28,
   "id": "895b3166",
   "metadata": {},
   "outputs": [
    {
     "data": {
      "text/plain": [
       "120"
      ]
     },
     "execution_count": 28,
     "metadata": {},
     "output_type": "execute_result"
    }
   ],
   "source": [
    "a*b"
   ]
  },
  {
   "cell_type": "code",
   "execution_count": 29,
   "id": "643ea548",
   "metadata": {},
   "outputs": [
    {
     "data": {
      "text/plain": [
       "0.8333333333333334"
      ]
     },
     "execution_count": 29,
     "metadata": {},
     "output_type": "execute_result"
    }
   ],
   "source": [
    "a/b"
   ]
  },
  {
   "cell_type": "markdown",
   "id": "270392a6",
   "metadata": {},
   "source": [
    "modulus(%)"
   ]
  },
  {
   "cell_type": "code",
   "execution_count": 30,
   "id": "8e6997fa",
   "metadata": {},
   "outputs": [
    {
     "data": {
      "text/plain": [
       "0"
      ]
     },
     "execution_count": 30,
     "metadata": {},
     "output_type": "execute_result"
    }
   ],
   "source": [
    "10%2"
   ]
  },
  {
   "cell_type": "markdown",
   "id": "e019945c",
   "metadata": {},
   "source": [
    "remainder means after dividing rest of value"
   ]
  },
  {
   "cell_type": "code",
   "execution_count": 31,
   "id": "17d07c78",
   "metadata": {},
   "outputs": [
    {
     "data": {
      "text/plain": [
       "1"
      ]
     },
     "execution_count": 31,
     "metadata": {},
     "output_type": "execute_result"
    }
   ],
   "source": [
    "11%2"
   ]
  },
  {
   "cell_type": "markdown",
   "id": "cac4f091",
   "metadata": {},
   "source": [
    "cushioned value is result of divide"
   ]
  },
  {
   "cell_type": "code",
   "execution_count": 32,
   "id": "ed6fec65",
   "metadata": {},
   "outputs": [
    {
     "data": {
      "text/plain": [
       "22"
      ]
     },
     "execution_count": 32,
     "metadata": {},
     "output_type": "execute_result"
    }
   ],
   "source": [
    "c=a+b\n",
    "c"
   ]
  },
  {
   "cell_type": "code",
   "execution_count": 33,
   "id": "194f612c",
   "metadata": {},
   "outputs": [
    {
     "name": "stdout",
     "output_type": "stream",
     "text": [
      "22\n"
     ]
    }
   ],
   "source": [
    "print(c)"
   ]
  },
  {
   "cell_type": "code",
   "execution_count": 34,
   "id": "45608629",
   "metadata": {},
   "outputs": [
    {
     "name": "stdout",
     "output_type": "stream",
     "text": [
      "c value= 22\n"
     ]
    }
   ],
   "source": [
    "print(\"c value=\",c)"
   ]
  },
  {
   "cell_type": "markdown",
   "id": "de5c9de3",
   "metadata": {},
   "source": [
    "Find the area of rectangle"
   ]
  },
  {
   "cell_type": "code",
   "execution_count": 39,
   "id": "46ad6aec",
   "metadata": {},
   "outputs": [
    {
     "name": "stdout",
     "output_type": "stream",
     "text": [
      "the area of rectangle is 180\n",
      "the area of rectangle with length 12 and the breadth is 15 area is 180\n"
     ]
    }
   ],
   "source": [
    "length=12\n",
    "breadth=15\n",
    "area=length*breadth\n",
    "print(\"the area of rectangle is\",area)\n",
    "print(\"the area of rectangle with length\",length,\"and the breadth is\",breadth,\"area is\",area)"
   ]
  },
  {
   "cell_type": "markdown",
   "id": "e4a73db8",
   "metadata": {},
   "source": [
    "area of circle"
   ]
  },
  {
   "cell_type": "code",
   "execution_count": 41,
   "id": "f696f8bd",
   "metadata": {},
   "outputs": [
    {
     "name": "stdout",
     "output_type": "stream",
     "text": [
      "area of circle is 78.5\n",
      "the area of circle is pi 3.14 and is radius with 5 area is 78.5\n"
     ]
    }
   ],
   "source": [
    "pi=3.14\n",
    "radius=5\n",
    "area_of_circle=pi*(radius**2)\n",
    "print(\"area of circle is\",area_of_circle)\n",
    "print(\"the area of circle is pi\",pi,\"and is radius with\",radius,\"area is\",area_of_circle)"
   ]
  },
  {
   "cell_type": "code",
   "execution_count": null,
   "id": "51b971c9",
   "metadata": {},
   "outputs": [],
   "source": []
  }
 ],
 "metadata": {
  "kernelspec": {
   "display_name": "Python 3 (ipykernel)",
   "language": "python",
   "name": "python3"
  },
  "language_info": {
   "codemirror_mode": {
    "name": "ipython",
    "version": 3
   },
   "file_extension": ".py",
   "mimetype": "text/x-python",
   "name": "python",
   "nbconvert_exporter": "python",
   "pygments_lexer": "ipython3",
   "version": "3.9.13"
  }
 },
 "nbformat": 4,
 "nbformat_minor": 5
}
